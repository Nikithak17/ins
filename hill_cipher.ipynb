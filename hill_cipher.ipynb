{
  "nbformat": 4,
  "nbformat_minor": 0,
  "metadata": {
    "colab": {
      "provenance": [],
      "authorship_tag": "ABX9TyPsPmOz46dzX/s60ebg3CeW",
      "include_colab_link": true
    },
    "kernelspec": {
      "name": "python3",
      "display_name": "Python 3"
    },
    "language_info": {
      "name": "python"
    }
  },
  "cells": [
    {
      "cell_type": "markdown",
      "metadata": {
        "id": "view-in-github",
        "colab_type": "text"
      },
      "source": [
        "<a href=\"https://colab.research.google.com/github/Nikithak17/ins/blob/main/hill_cipher.ipynb\" target=\"_parent\"><img src=\"https://colab.research.google.com/assets/colab-badge.svg\" alt=\"Open In Colab\"/></a>"
      ]
    },
    {
      "cell_type": "code",
      "execution_count": 2,
      "metadata": {
        "colab": {
          "base_uri": "https://localhost:8080/"
        },
        "id": "7hfgCTt2GGAG",
        "outputId": "f08e367d-eeb7-4baa-9578-869e6eb5a03a"
      },
      "outputs": [
        {
          "output_type": "stream",
          "name": "stdout",
          "text": [
            "Encrypted: TFJJZX\n"
          ]
        }
      ],
      "source": [
        "import numpy as np\n",
        "\n",
        "def hill_cipher_encrypt(plaintext, key_matrix):\n",
        "    n = len(key_matrix)\n",
        "    plaintext = plaintext.upper().replace(\" \", \"\")\n",
        "    if len(plaintext) % n != 0:\n",
        "        plaintext += \"X\" * (n - len(plaintext) % n)\n",
        "\n",
        "    plaintext_vector = [ord(char) - ord('A') for char in plaintext]\n",
        "    ciphertext = \"\"\n",
        "    for i in range(0, len(plaintext_vector), n):\n",
        "        block = plaintext_vector[i:i + n]\n",
        "        result = np.dot(key_matrix, block) % 26\n",
        "        ciphertext += \"\".join(chr(num + ord('A')) for num in result)\n",
        "    return ciphertext\n",
        "\n",
        "plaintext = \"HELLO\"\n",
        "key_matrix = np.array([[6, 24, 1], [13, 16, 10], [20, 17, 15]])\n",
        "print(\"Encrypted:\", hill_cipher_encrypt(plaintext, key_matrix))"
      ]
    }
  ]
}