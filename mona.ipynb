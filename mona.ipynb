{
  "nbformat": 4,
  "nbformat_minor": 0,
  "metadata": {
    "colab": {
      "provenance": [],
      "authorship_tag": "ABX9TyOJmZ1u9vTpJWKt5WfQN1Vx",
      "include_colab_link": true
    },
    "kernelspec": {
      "name": "python3",
      "display_name": "Python 3"
    },
    "language_info": {
      "name": "python"
    }
  },
  "cells": [
    {
      "cell_type": "markdown",
      "metadata": {
        "id": "view-in-github",
        "colab_type": "text"
      },
      "source": [
        "<a href=\"https://colab.research.google.com/github/Nikithak17/ins/blob/main/mona.ipynb\" target=\"_parent\"><img src=\"https://colab.research.google.com/assets/colab-badge.svg\" alt=\"Open In Colab\"/></a>"
      ]
    },
    {
      "cell_type": "code",
      "execution_count": 1,
      "metadata": {
        "colab": {
          "base_uri": "https://localhost:8080/"
        },
        "id": "7hfgCTt2GGAG",
        "outputId": "374c7b18-bece-4bd2-93a6-a4b95e34b249"
      },
      "outputs": [
        {
          "output_type": "stream",
          "name": "stdout",
          "text": [
            "Enter a text : hello\n",
            "Cipher text :  SVOOL\n",
            "Decrypting\n",
            "HELLO"
          ]
        }
      ],
      "source": [
        "def encrypt(text, shift_dict):\n",
        "    encrypted_text = []\n",
        "    for char in text:\n",
        "        if char in shift_dict:\n",
        "            encrypted_text.append(shift_dict[char])\n",
        "        else:\n",
        "            encrypted_text.append(char)\n",
        "    return \"\".join(encrypted_text)\n",
        "\n",
        "def decrypt(shift_dict):\n",
        "    reverse_dict = {v: k for k, v in shift_dict.items()}\n",
        "    return reverse_dict\n",
        "\n",
        "shift_dict = {\n",
        "    'A':'Z', 'B':'Y', 'C':'X', 'D':'W', 'E':'V', 'F':'U', 'G':'T',\n",
        "    'H':'S', 'I':'R', 'J':'Q', 'K':'P', 'L':'O', 'M':'N', 'N':'M',\n",
        "    'O':'L', 'P':'K', 'Q':'J', 'R':'I', 'S':'H', 'T':'G', 'U':'F',\n",
        "    'V':'E', 'W':'D', 'X':'C', 'Y':'B', 'Z':'A',\n",
        "    'a':'z', 'b':'y', 'c':'x', 'd':'w', 'e':'v', 'f':'u', 'g':'t',\n",
        "    'h':'s', 'i':'r', 'j':'q', 'k':'p', 'l':'o', 'm':'n', 'n':'m',\n",
        "    'o':'l', 'p':'k', 'q':'j', 'r':'i', 's':'h', 't':'g', 'u':'f',\n",
        "    'v':'e', 'w':'d', 'x':'c', 'y':'b', 'z':'a'\n",
        "}\n",
        "\n",
        "text = input(\"Enter a text : \")\n",
        "encrypted_text = encrypt(text.upper(), shift_dict)\n",
        "print(\"Cipher text : \", encrypted_text)\n",
        "decrypted_dict = decrypt(shift_dict)\n",
        "print(\"Decrypting\")\n",
        "for char in encrypted_text:\n",
        "    position = [k for k, v in shift_dict.items() if v == char][0]\n",
        "    print(position, end=\"\")"
      ]
    }
  ]
}